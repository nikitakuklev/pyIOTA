{
 "cells": [
  {
   "cell_type": "code",
   "execution_count": 1,
   "metadata": {
    "collapsed": true,
    "pycharm": {
     "is_executing": false
    }
   },
   "outputs": [],
   "source": [
    "import sys\n",
    "import matplotlib.pyplot as plt"
   ]
  },
  {
   "cell_type": "code",
   "execution_count": 2,
   "outputs": [
    {
     "name": "stderr",
     "text": [
      "[INFO    ] \u001b[0mcsr.py: module PYFFTW is not installed. Install it to speed up calculation.\u001b[0m\n"
     ],
     "output_type": "stream"
    },
    {
     "name": "stdout",
     "text": [
      "initializing ocelot...\n",
      "import: module PYFFTW is not installed. Install it to speed up calculation\n"
     ],
     "output_type": "stream"
    }
   ],
   "source": [
    "# Control consoles only\n",
    "#sys.path.insert(1,'N:\\\\ControlRoom\\\\nkuklev\\\\Software')\n",
    "import pyIOTA.acnet as acnet\n",
    "import pyIOTA.iota as iota"
   ],
   "metadata": {
    "collapsed": false,
    "pycharm": {
     "name": "#%%\n",
     "is_executing": false
    }
   }
  },
  {
   "cell_type": "code",
   "execution_count": 3,
   "outputs": [
    {
     "data": {
      "text/plain": "21"
     },
     "metadata": {},
     "output_type": "execute_result",
     "execution_count": 3
    }
   ],
   "source": [
    "# Query all horizontal BPMS\n",
    "devices = iota.BPMS.HA\n",
    "ds = acnet.frontends.BPMDeviceSet(name='bpms', members=devices,\n",
    "                                  adapter = acnet.frontends.ACL(), \n",
    "                                  enforce_array_length=1000)\n",
    "ds.read() # returns number of successfully read devices"
   ],
   "metadata": {
    "collapsed": false,
    "pycharm": {
     "name": "#%%\n",
     "is_executing": false
    }
   }
  },
  {
   "cell_type": "code",
   "execution_count": 4,
   "outputs": [
    {
     "name": "stdout",
     "text": [
      "N:IBB2RH | BPMDevice N:IBB2RH:[ 8.00e+00  4.10e-03  7.05e-02 -8.33e-02]...\n",
      "N:IBC1RH | BPMDevice N:IBC1RH:[8.    2.078 2.152 1.974]...\n",
      "N:IBC2RH | BPMDevice N:IBC2RH:[8.     0.1141 0.1446 0.1432]...\n",
      "N:IBD1RH | BPMDevice N:IBD1RH:[8.     0.5132 0.3478 0.3446]...\n",
      "N:IBD2RH | BPMDevice N:IBD2RH:[8.     0.0813 0.1438 0.1556]...\n",
      "N:IBE1RH | BPMDevice N:IBE1RH:[8.     0.1463 0.1259 0.058 ]...\n",
      "N:IBE2RH | BPMDevice N:IBE2RH:[   8. 1000. 1000. 1000.]...\n",
      "N:IBE2LH | BPMDevice N:IBE2LH:[8.     0.6958 0.5937 0.6779]...\n",
      "N:IBE1LH | BPMDevice N:IBE1LH:[8.    2.081 2.092 2.104]...\n",
      "N:IBD2LH | BPMDevice N:IBD2LH:[ 8.     -0.9292 -1.014  -0.9118]...\n",
      "N:IBD1LH | BPMDevice N:IBD1LH:[ 8.    -1.1   -1.108 -1.179]...\n",
      "N:IBC2LH | BPMDevice N:IBC2LH:[ 8.     -0.3274 -0.3741 -0.3202]...\n",
      "N:IBC1LH | BPMDevice N:IBC1LH:[8.     0.7958 0.86   0.6613]...\n",
      "N:IBB2LH | BPMDevice N:IBB2LH:[ 8.     -0.8924 -0.9619 -0.8432]...\n",
      "N:IBB1LH | BPMDevice N:IBB1LH:[ 8.     -0.4074 -0.3758 -0.4084]...\n",
      "N:IBA3LH | BPMDevice N:IBA3LH:[8.     0.8709 0.8018 0.9254]...\n",
      "N:IBA2LH | BPMDevice N:IBA2LH:[ 8.     -0.9885 -0.9823 -0.9671]...\n",
      "N:IBA1CH | BPMDevice N:IBA1CH:[8.     0.6201 0.603  0.6282]...\n",
      "N:IBA2RH | BPMDevice N:IBA2RH:[8.    1.448 1.371 1.436]...\n",
      "N:IBA3RH | BPMDevice N:IBA3RH:[ 8.    -2.128 -2.146 -2.001]...\n",
      "N:IBB1RH | BPMDevice N:IBB1RH:[ 8.     -0.3866 -0.211  -0.1959]...\n"
     ],
     "output_type": "stream"
    }
   ],
   "source": [
    "# Device set stores all device objects in dictionary based on ACNET names\n",
    "bpms = ds.devices\n",
    "for (k,v) in bpms.items():\n",
    "    print(f'{k} | {v}')"
   ],
   "metadata": {
    "collapsed": false,
    "pycharm": {
     "name": "#%%\n",
     "is_executing": false
    }
   }
  },
  {
   "cell_type": "code",
   "execution_count": 5,
   "outputs": [
    {
     "data": {
      "text/plain": "pyIOTA.acnet.frontends.BPMDevice"
     },
     "metadata": {},
     "output_type": "execute_result",
     "execution_count": 5
    }
   ],
   "source": [
    "# You can access device set as a dictionary directly\n",
    "bpm = ds['N:IBC2RH']\n",
    "type(bpm)"
   ],
   "metadata": {
    "collapsed": false,
    "pycharm": {
     "name": "#%%\n",
     "is_executing": false
    }
   }
  },
  {
   "cell_type": "code",
   "execution_count": 6,
   "outputs": [
    {
     "data": {
      "text/plain": "1000"
     },
     "metadata": {},
     "output_type": "execute_result",
     "execution_count": 6
    }
   ],
   "source": [
    "# Only the desired array length is requested from server\n",
    "len(bpm.value)"
   ],
   "metadata": {
    "collapsed": false,
    "pycharm": {
     "name": "#%%\n",
     "is_executing": false
    }
   }
  },
  {
   "cell_type": "code",
   "execution_count": 7,
   "outputs": [
    {
     "data": {
      "text/plain": "[<matplotlib.lines.Line2D at 0x286b2768288>]"
     },
     "metadata": {},
     "output_type": "execute_result",
     "execution_count": 7
    },
    {
     "data": {
      "text/plain": "<Figure size 432x288 with 1 Axes>",
      "image/png": "[encoded data removed]"
     },
     "metadata": {
      "needs_background": "light"
     },
     "output_type": "display_data"
    }
   ],
   "source": [
    "plt.plot(bpm.value)"
   ],
   "metadata": {
    "collapsed": false,
    "pycharm": {
     "name": "#%%\n",
     "is_executing": false
    }
   }
  }
 ],
 "metadata": {
  "kernelspec": {
   "display_name": "Python 3",
   "language": "python",
   "name": "python3"
  },
  "language_info": {
   "codemirror_mode": {
    "name": "ipython",
    "version": 2
   },
   "file_extension": ".py",
   "mimetype": "text/x-python",
   "name": "python",
   "nbconvert_exporter": "python",
   "pygments_lexer": "ipython2",
   "version": "2.7.6"
  },
  "pycharm": {
   "stem_cell": {
    "cell_type": "raw",
    "source": [],
    "metadata": {
     "collapsed": false
    }
   }
  }
 },
 "nbformat": 4,
 "nbformat_minor": 0
}