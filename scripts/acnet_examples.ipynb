{
 "cells": [
  {
   "cell_type": "code",
   "metadata": {},
   "source": [
    "import time, sys, os, random, logging\n",
    "import numpy as np\n",
    "import pandas as pd\n",
    "import matplotlib.pyplot as plt\n",
    "\n",
    "import pyiota.iota\n",
    "RING = pyiota.iota.run4\n",
    "\n",
    "#l = logging.getLogger('pyiota.acnet.acsys')\n",
    "#l.setLevel(logging.WARNING)"
   ],
   "outputs": [],
   "execution_count": null
  },
  {
   "attachments": {},
   "cell_type": "markdown",
   "metadata": {},
   "source": [
    "pyIOTA acnet module has a goal of making life easier for Python scripting while hiding ACNET 'features'. In some ways, this brings the interface closer to EPICS, however there are fundamental differences in how ACNET works (clock events, lack of device monitoring) that prevent a fully unified interface. \n",
    "\n",
    "General pyiota strategy is:\n",
    "- parse provided channel names into DRF2\n",
    "- combine channels into 'sets' that will be operated on in parallel - this is key for good performance\n",
    "- provide convenience methods on sets for typical operations - read/write/on/off/etc.\n",
    "- translate requests into internal commands through multiple 'adapters' - ACL (HTTP web backend), DIODMQ (through ACNET-Proxy project) and DPM (through modified ACSys)\n",
    "- as far as possible, return results in a uniform format\n",
    "- provide convenience functions like caching, periodic monitoring, and others"
   ]
  },
  {
   "attachments": {},
   "cell_type": "markdown",
   "metadata": {},
   "source": [
    "## DRF2\n",
    "\n",
    "ACNET uses (for now) DRF2 format https://www-bd.fnal.gov/controls/public/drf2/. A subset of most common format options is implemented in acnet.drf2 submodule, mirroring the Java implementation. For all device operations, channel string must be parseable into a valid DRF2 on creation. In addition, DPM-style '<-' extra postfix is allowed for certain requests."
   ]
  },
  {
   "cell_type": "code",
   "metadata": {},
   "source": "from pyiota.acnet.drf2 import parse_request, DRF_PROPERTY, ARRAY_RANGE, ImmediateEvent",
   "outputs": [],
   "execution_count": null
  },
  {
   "cell_type": "code",
   "metadata": {},
   "source": [
    "drf2 = parse_request('Z:ACLTST')\n",
    "print(drf2)"
   ],
   "outputs": [],
   "execution_count": null
  },
  {
   "cell_type": "code",
   "metadata": {},
   "source": [
    "drf2 = parse_request('N:I2B1RI[50:]@p,1000')\n",
    "print(drf2)"
   ],
   "outputs": [],
   "execution_count": null
  },
  {
   "cell_type": "code",
   "metadata": {},
   "source": [
    "# You can convert back to string with replacement of each DRF2 part\n",
    "# For example, this is how periodic/immediate events are swapped internally\n",
    "drf2.to_canonical()"
   ],
   "outputs": [],
   "execution_count": null
  },
  {
   "cell_type": "code",
   "metadata": {},
   "source": "drf2.to_canonical(property=DRF_PROPERTY.SETTING, range=ARRAY_RANGE(low=20, high=240), event=ImmediateEvent())",
   "outputs": [],
   "execution_count": null
  },
  {
   "cell_type": "code",
   "metadata": {},
   "source": [
    "drf2.to_qualified(property=DRF_PROPERTY.SETTING)"
   ],
   "outputs": [],
   "execution_count": null
  },
  {
   "attachments": {},
   "cell_type": "markdown",
   "metadata": {},
   "source": [
    "## Adapters\n",
    "\n",
    "Adapters are objects that take Devices and operate on them to do actual readings and settings. For complicated reasons, each adapter is best suited to specific requests and incompatible with others. Their properties are described below:"
   ]
  },
  {
   "cell_type": "code",
   "metadata": {},
   "source": [
    "from pyiota.acnet import ACL, ACNETRelay, DPM, READ_METHOD\n",
    "\n",
    "# Java proxy, which is our custom Java HTTP server (ACNET-Proxy repo) that forwards all requests using DIODMQ (RabbitMQ broker). It is the highest performance method for large data, and has been in use for several years.\n",
    "proxy = ACNETRelay(verbose=True)\n",
    "\n",
    "# Java proxy but it is allowed to return last cached result if available (and error out if not)\n",
    "# There is an internal hardcoded list of common IOTA devices that are subscribed to 10Hz updates on startup (i.e. N:I2B1RI@p,100)\n",
    "# Since any fresh reads have >=30ms latency, cached data (~50ms age on average) is often as reasonable to use as dedicated immediate reads with much less ACNET load\n",
    "# In some of the method discussed below, you can also request a 'fresh cached' read, which will poll until new periodic reading comes in and IS STRONGLY RECOMMENDED\n",
    "proxy_cached = ACNETRelay(verbose=True, read_method=READ_METHOD.CACHED)\n",
    "\n",
    "# ACL adapter uses the HTTP interfaced to execute small ACL one-liners\n",
    "# It can be used to perform some unique operations not suitable for other adapters\n",
    "# as well as being a very robust backup for reads. Quite fast at scale of hundreds of devices per request, but slow for individual ones.\n",
    "# No settings are possible through ACL\n",
    "acl = ACL(verbose=True)\n",
    "\n",
    "# DPM interface uses a modified version of ACsys library to work through data pool manager\n",
    "# It changes some internal mechanics to better work with threading and synchronous tasks, hiding async formalism\n",
    "# Quite good read performance but settings are restricted by 'role'.\n",
    "dpm = DPM(verbose=True)"
   ],
   "outputs": [],
   "execution_count": null
  },
  {
   "cell_type": "code",
   "metadata": {},
   "source": [
    "# You can ping proxy to verify connectivity\n",
    "proxy.ping()"
   ],
   "outputs": [],
   "execution_count": null
  },
  {
   "cell_type": "code",
   "metadata": {},
   "source": [
    "# Example raw ACL command\n",
    "acl._raw_command(\"event_info/nml/last_time A8\")"
   ],
   "outputs": [],
   "execution_count": null
  },
  {
   "cell_type": "code",
   "metadata": {},
   "source": [
    "# Wait until next event (this is poor man's @e,A8 event alternative, but actually used operationally)\n",
    "acl._raw_command(\"wait/nml/event/timeout=2 A8\")"
   ],
   "outputs": [],
   "execution_count": null
  },
  {
   "cell_type": "code",
   "metadata": {},
   "source": [
    "# As expected, another event happened\n",
    "acl._raw_command(\"event_info/nml/last_time A8\")"
   ],
   "outputs": [],
   "execution_count": null
  },
  {
   "cell_type": "code",
   "metadata": {},
   "source": [
    "# Find out which DPM we are connected to\n",
    "dpm.ping()"
   ],
   "outputs": [],
   "execution_count": null
  },
  {
   "attachments": {},
   "cell_type": "markdown",
   "metadata": {},
   "source": [
    "## Devices\n",
    "\n",
    "Basic pyiota control objects are associated with specific data types as well as property types\n",
    "\n",
    "Currently implemented:\n",
    "- DoubleDevice = ACNET reading and setting of floats and ints \n",
    "- StatusDevice = ACNET status devices\n",
    "- ArrayDevice = ACNET reading and setting of float arrays [this distinction from length-1 channels mirrors Java API, there is no technical reason for it]"
   ]
  },
  {
   "cell_type": "code",
   "metadata": {},
   "source": [
    "# Designate default adapter - it will be used unless overriden\n",
    "pyiota.acnet.frontends.AdapterManager.default_adapter = dpm"
   ],
   "outputs": [],
   "execution_count": null
  },
  {
   "cell_type": "code",
   "metadata": {},
   "source": [
    "from pyiota.acnet import DoubleDevice, StatusDevice, ArrayDevice\n",
    "test_double = DoubleDevice('Z:ACLTST')"
   ],
   "outputs": [],
   "execution_count": null
  },
  {
   "cell_type": "code",
   "metadata": {},
   "source": [
    "test_double.read()"
   ],
   "outputs": [],
   "execution_count": null
  },
  {
   "cell_type": "code",
   "metadata": {},
   "source": [
    "test_double.read(adapter=acl)"
   ],
   "outputs": [],
   "execution_count": null
  },
  {
   "cell_type": "code",
   "metadata": {},
   "source": [
    "test_double.read(adapter=proxy)"
   ],
   "outputs": [],
   "execution_count": null
  },
  {
   "cell_type": "code",
   "metadata": {},
   "source": [
    "# Instead of values, full DataResponse objects can be returned\n",
    "# This is especially useful for responses that error out, since response will contain error codes\n",
    "test_double.read(full=True, adapter=proxy)"
   ],
   "outputs": [],
   "execution_count": null
  },
  {
   "cell_type": "code",
   "metadata": {},
   "source": [
    "test_status = StatusDevice('Z|ACLTST')\n",
    "test_status.read()"
   ],
   "outputs": [],
   "execution_count": null
  },
  {
   "cell_type": "code",
   "metadata": {},
   "source": [
    "test_status.set('OFF',full=True,adapter=proxy)"
   ],
   "outputs": [],
   "execution_count": null
  },
  {
   "cell_type": "code",
   "metadata": {},
   "source": [],
   "outputs": [],
   "execution_count": null
  },
  {
   "cell_type": "code",
   "metadata": {},
   "source": [
    "# Each read also updates internal device state, which can be queries with convenience methods\n",
    "test_status.on"
   ],
   "outputs": [],
   "execution_count": null
  },
  {
   "cell_type": "code",
   "metadata": {},
   "source": [
    "test_status.ready"
   ],
   "outputs": [],
   "execution_count": null
  },
  {
   "cell_type": "code",
   "metadata": {},
   "source": [
    "test_status.read(adapter=proxy)"
   ],
   "outputs": [],
   "execution_count": null
  },
  {
   "cell_type": "code",
   "metadata": {},
   "source": [
    "# Errors will produce 'None' results \n",
    "test_array = ArrayDevice('Z:CACHE[:2]')\n",
    "test_array.read()"
   ],
   "outputs": [],
   "execution_count": null
  },
  {
   "cell_type": "code",
   "metadata": {},
   "source": [
    "test_array.read(adapter=proxy)"
   ],
   "outputs": [],
   "execution_count": null
  },
  {
   "cell_type": "code",
   "metadata": {},
   "source": [
    "test_array = ArrayDevice('N:IBC1RH[:10]')\n",
    "test_array.read()"
   ],
   "outputs": [],
   "execution_count": null
  },
  {
   "cell_type": "code",
   "metadata": {},
   "source": [
    "test_array.read(adapter=proxy)"
   ],
   "outputs": [],
   "execution_count": null
  },
  {
   "cell_type": "code",
   "metadata": {},
   "source": [
    "test_array = ArrayDevice('Z:ACLTST[0:3]')\n",
    "test_array.read()"
   ],
   "outputs": [],
   "execution_count": null
  },
  {
   "cell_type": "code",
   "metadata": {},
   "source": [
    "# that is real device used in internal Java tests...\n",
    "t = DoubleDevice(\"C:CRAP\") \n",
    "t.read()"
   ],
   "outputs": [],
   "execution_count": null
  },
  {
   "cell_type": "code",
   "metadata": {},
   "source": [
    "t.read(adapter=proxy)"
   ],
   "outputs": [],
   "execution_count": null
  },
  {
   "cell_type": "code",
   "metadata": {},
   "source": [
    "# Setting work, but you MUST change the property appropriately \n",
    "# Lack of automatic conversion is a safety feature such that explicit READING and SETTING devices need to be created\n",
    "test_double = DoubleDevice('Z:ACLTST')\n",
    "test_double.set(5, adapter=proxy)"
   ],
   "outputs": [],
   "execution_count": null
  },
  {
   "cell_type": "code",
   "metadata": {},
   "source": [
    "# This now succeeeds\n",
    "test_double = DoubleDevice('Z_ACLTST')\n",
    "test_double.set(5, adapter=proxy)"
   ],
   "outputs": [],
   "execution_count": null
  },
  {
   "cell_type": "code",
   "metadata": {},
   "source": [
    "# Status devices pair with control devices in same way as READING/SETTING ones do, but because there is no confusion there is automatic conversion\n",
    "test_control = StatusDevice('Z&ACLTST')\n",
    "test_control.set('OFF',full=True,adapter=proxy)"
   ],
   "outputs": [],
   "execution_count": null
  },
  {
   "cell_type": "code",
   "metadata": {},
   "source": [
    "test_status.read()\n",
    "test_status.on"
   ],
   "outputs": [],
   "execution_count": null
  },
  {
   "attachments": {},
   "cell_type": "markdown",
   "metadata": {},
   "source": [
    "## Device sets\n",
    "\n",
    "Previous section actually lied - pyiota operates on 'device sets', with individual reads just creating a 1-device set in the background. Why? Because ACNET is slow, and tuned around having premade large lists of devices for batch operations. Instead of trying to hide this complexity behind 'read_many_devices' style methods, the choice of how to combine devices is left up to the user. There are tradeoffs in terms of reliability and performance - read and set operations will wait until all devices finish, and too large jobs will slow down processing."
   ]
  },
  {
   "cell_type": "code",
   "metadata": {},
   "source": [
    "from pyiota.acnet import DoubleDeviceSet\n",
    "test_double_2 = DoubleDevice('Z_CACHE')\n",
    "test_double_3 = DoubleDevice('G_CHIPLC')\n",
    "ds_double = DoubleDeviceSet(members=[test_double, test_double_2, test_double_3], adapter=proxy)"
   ],
   "outputs": [],
   "execution_count": null
  },
  {
   "cell_type": "code",
   "metadata": {},
   "source": [
    "ds_double.read()"
   ],
   "outputs": [],
   "execution_count": null
  },
  {
   "cell_type": "code",
   "metadata": {},
   "source": [
    "ds_double.set([1.0, 2.0, 3.0])"
   ],
   "outputs": [],
   "execution_count": null
  }
 ],
 "metadata": {
  "kernelspec": {
   "display_name": "py39ml",
   "language": "python",
   "name": "python3"
  },
  "language_info": {
   "codemirror_mode": {
    "name": "ipython",
    "version": 3
   },
   "file_extension": ".py",
   "mimetype": "text/x-python",
   "name": "python",
   "nbconvert_exporter": "python",
   "pygments_lexer": "ipython3",
   "version": "3.9.15"
  },
  "orig_nbformat": 4
 },
 "nbformat": 4,
 "nbformat_minor": 2
}
