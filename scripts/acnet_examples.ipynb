{
 "cells": [
  {
   "cell_type": "code",
   "execution_count": 1,
   "metadata": {},
   "outputs": [],
   "source": [
    "import time, sys, os, random, logging\n",
    "import numpy as np\n",
    "import pandas as pd\n",
    "import matplotlib.pyplot as plt\n",
    "\n",
    "import pyiota.iota\n",
    "RING = pyiota.iota.run4\n",
    "\n",
    "#l = logging.getLogger('pyiota.acnet.acsys')\n",
    "#l.setLevel(logging.WARNING)"
   ]
  },
  {
   "attachments": {},
   "cell_type": "markdown",
   "metadata": {},
   "source": [
    "pyIOTA acnet module has a goal of making life easier for Python scripting while hiding ACNET 'features'. In some ways, this brings the interface closer to EPICS, however there are fundamental differences in how ACNET works (clock events, lack of device monitoring) that prevent a fully unified interface. \n",
    "\n",
    "General pyiota strategy is:\n",
    "- parse provided channel names into DRF2\n",
    "- combine channels into 'sets' that will be operated on in parallel - this is key for good performance\n",
    "- provide convenience methods on sets for typical operations - read/write/on/off/etc.\n",
    "- translate requests into internal commands through multiple 'adapters' - ACL (HTTP web backend), DIODMQ (through ACNET-Proxy project) and DPM (through modified ACSys)\n",
    "- as far as possible, return results in a uniform format\n",
    "- provide convenience functions like caching, periodic monitoring, and others"
   ]
  },
  {
   "attachments": {},
   "cell_type": "markdown",
   "metadata": {},
   "source": [
    "## DRF2\n",
    "\n",
    "ACNET uses (for now) DRF2 format https://www-bd.fnal.gov/controls/public/drf2/. A subset of most common format options is implemented in acnet.drf2 submodule, mirroring the Java implementation. For all device operations, channel string must be parseable into a valid DRF2 on creation. In addition, DPM-style '<-' extra postfix is allowed for certain requests."
   ]
  },
  {
   "cell_type": "code",
   "execution_count": 2,
   "metadata": {},
   "outputs": [],
   "source": [
    "from pyiota.acnet.drf2 import parse_request, DRF_PROPERTY, DRF_RANGE, ImmediateEvent"
   ]
  },
  {
   "cell_type": "code",
   "execution_count": 3,
   "metadata": {},
   "outputs": [
    {
     "name": "stdout",
     "output_type": "stream",
     "text": [
      "DiscreteRequest Z:ACLTST = self.device='Z:ACLTST' self.property=<DRF_PROPERTY.READING: ':'> self.range=None self.field=<DRF_FIELD.SCALED: 3> self.event=None\n"
     ]
    }
   ],
   "source": [
    "drf2 = parse_request('Z:ACLTST')\n",
    "print(drf2)"
   ]
  },
  {
   "cell_type": "code",
   "execution_count": 4,
   "metadata": {},
   "outputs": [
    {
     "name": "stdout",
     "output_type": "stream",
     "text": [
      "DiscreteRequest N:I2B1RI[50:]@p,1000 = self.device='N:I2B1RI' self.property=<DRF_PROPERTY.READING: ':'> self.range=<DRF_RANGE: [50:]> self.field=<DRF_FIELD.SCALED: 3> self.event=<DRF_EVENT mode P: (p,1000)>\n"
     ]
    }
   ],
   "source": [
    "drf2 = parse_request('N:I2B1RI[50:]@p,1000')\n",
    "print(drf2)"
   ]
  },
  {
   "cell_type": "code",
   "execution_count": 5,
   "metadata": {},
   "outputs": [
    {
     "data": {
      "text/plain": [
       "'N:I2B1RI.READING[50:]@p,1000'"
      ]
     },
     "execution_count": 5,
     "metadata": {},
     "output_type": "execute_result"
    }
   ],
   "source": [
    "# You can convert back to string with replacement of each DRF2 part\n",
    "# For example, this is how periodic/immediate events are swapped internally\n",
    "drf2.to_canonical()"
   ]
  },
  {
   "cell_type": "code",
   "execution_count": 6,
   "metadata": {},
   "outputs": [
    {
     "data": {
      "text/plain": [
       "'N:I2B1RI.SETTING[20:240]@I'"
      ]
     },
     "execution_count": 6,
     "metadata": {},
     "output_type": "execute_result"
    }
   ],
   "source": [
    "drf2.to_canonical(property=DRF_PROPERTY.SETTING, range=DRF_RANGE(low=20,high=240), event=ImmediateEvent())"
   ]
  },
  {
   "cell_type": "code",
   "execution_count": 7,
   "metadata": {},
   "outputs": [
    {
     "data": {
      "text/plain": [
       "'N_I2B1RI[50:]@p,1000'"
      ]
     },
     "execution_count": 7,
     "metadata": {},
     "output_type": "execute_result"
    }
   ],
   "source": [
    "drf2.to_qualified(property=DRF_PROPERTY.SETTING)"
   ]
  },
  {
   "attachments": {},
   "cell_type": "markdown",
   "metadata": {},
   "source": [
    "## Adapters\n",
    "\n",
    "Adapters are objects that take Devices and operate on them to do actual readings and settings. For complicated reasons, each adapter is best suited to specific requests and incompatible with others. Their properties are described below:"
   ]
  },
  {
   "cell_type": "code",
   "execution_count": 8,
   "metadata": {},
   "outputs": [
    {
     "ename": "ACNETTimeoutError",
     "evalue": "Request http://127.0.0.1:8080/status timeout out",
     "output_type": "error",
     "traceback": [
      "\u001b[1;31m---------------------------------------------------------------------------\u001b[0m",
      "\u001b[1;31mACNETTimeoutError\u001b[0m                         Traceback (most recent call last)",
      "Cell \u001b[1;32mIn[8], line 4\u001b[0m\n\u001b[0;32m      1\u001b[0m \u001b[39mfrom\u001b[39;00m \u001b[39mpyiota\u001b[39;00m\u001b[39m.\u001b[39;00m\u001b[39macnet\u001b[39;00m \u001b[39mimport\u001b[39;00m ACL, ACNETRelay, DPM, READ_METHOD\n\u001b[0;32m      3\u001b[0m \u001b[39m# Java proxy, which is our custom Java HTTP server (ACNET-Proxy repo) that forwards all requests using DIODMQ (RabbitMQ broker). It is the highest performance method for large data, and has been in use for several years.\u001b[39;00m\n\u001b[1;32m----> 4\u001b[0m proxy \u001b[39m=\u001b[39m ACNETRelay(verbose\u001b[39m=\u001b[39;49m\u001b[39mTrue\u001b[39;49;00m)\n\u001b[0;32m      6\u001b[0m \u001b[39m# Java proxy but it is allowed to return last cached result if available (and error out if not)\u001b[39;00m\n\u001b[0;32m      7\u001b[0m \u001b[39m# There is an internal hardcoded list of common IOTA devices that are subscribed to 10Hz updates on startup (i.e. N:I2B1RI@p,100)\u001b[39;00m\n\u001b[0;32m      8\u001b[0m \u001b[39m# Since any fresh reads have >=30ms latency, cached data (~50ms age on average) is often as reasonable to use as dedicated immediate reads with much less ACNET load\u001b[39;00m\n\u001b[0;32m      9\u001b[0m \u001b[39m# In some of the method discussed below, you can also request a 'fresh cached' read, which will poll until new periodic reading comes in and IS STRONGLY RECOMMENDED\u001b[39;00m\n\u001b[0;32m     10\u001b[0m proxy_cached \u001b[39m=\u001b[39m ACNETRelay(verbose\u001b[39m=\u001b[39m\u001b[39mTrue\u001b[39;00m, read_method\u001b[39m=\u001b[39mREAD_METHOD\u001b[39m.\u001b[39mCACHED)\n",
      "File \u001b[1;32mC:\\GoogleDrive\\Work\\acc_code\\pyiota\\pyiota\\acnet\\adapters.py:437\u001b[0m, in \u001b[0;36mACNETRelay.__init__\u001b[1;34m(self, address, read_method, set_multi, verbose)\u001b[0m\n\u001b[0;32m    434\u001b[0m \u001b[39mself\u001b[39m\u001b[39m.\u001b[39mclient \u001b[39m=\u001b[39m httpx\u001b[39m.\u001b[39mClient(timeout\u001b[39m=\u001b[39mtm, limits\u001b[39m=\u001b[39mlimits)\n\u001b[0;32m    436\u001b[0m \u001b[39mtry\u001b[39;00m:\n\u001b[1;32m--> 437\u001b[0m     \u001b[39mself\u001b[39;49m\u001b[39m.\u001b[39;49mping()\n\u001b[0;32m    438\u001b[0m \u001b[39mexcept\u001b[39;00m httpx\u001b[39m.\u001b[39mTimeoutException:\n\u001b[0;32m    439\u001b[0m     logger\u001b[39m.\u001b[39mwarning(\u001b[39mf\u001b[39m\u001b[39m'\u001b[39m\u001b[39mProxy ping failed - is it launched?\u001b[39m\u001b[39m'\u001b[39m)\n",
      "File \u001b[1;32mC:\\GoogleDrive\\Work\\acc_code\\pyiota\\pyiota\\acnet\\adapters.py:458\u001b[0m, in \u001b[0;36mACNETRelay.ping\u001b[1;34m(self)\u001b[0m\n\u001b[0;32m    456\u001b[0m     response \u001b[39m=\u001b[39m \u001b[39mself\u001b[39m\u001b[39m.\u001b[39mclient\u001b[39m.\u001b[39mget(\u001b[39mself\u001b[39m\u001b[39m.\u001b[39maddress \u001b[39m+\u001b[39m \u001b[39m'\u001b[39m\u001b[39mstatus\u001b[39m\u001b[39m'\u001b[39m, timeout\u001b[39m=\u001b[39m\u001b[39m1.0\u001b[39m)\n\u001b[0;32m    457\u001b[0m \u001b[39mexcept\u001b[39;00m httpx\u001b[39m.\u001b[39mTimeoutException:\n\u001b[1;32m--> 458\u001b[0m     \u001b[39mraise\u001b[39;00m ACNETTimeoutError(\u001b[39mf\u001b[39m\u001b[39m\"\u001b[39m\u001b[39mRequest \u001b[39m\u001b[39m{\u001b[39;00m\u001b[39mself\u001b[39m\u001b[39m.\u001b[39maddress\u001b[39m \u001b[39m\u001b[39m+\u001b[39m\u001b[39m \u001b[39m\u001b[39m'\u001b[39m\u001b[39mstatus\u001b[39m\u001b[39m'\u001b[39m\u001b[39m}\u001b[39;00m\u001b[39m timeout out\u001b[39m\u001b[39m\"\u001b[39m) \u001b[39mfrom\u001b[39;00m \u001b[39mNone\u001b[39m\n\u001b[0;32m    459\u001b[0m \u001b[39massert\u001b[39;00m response\u001b[39m.\u001b[39mstatus_code \u001b[39m==\u001b[39m \u001b[39m200\u001b[39m\n\u001b[0;32m    460\u001b[0m \u001b[39massert\u001b[39;00m response\u001b[39m.\u001b[39mtext \u001b[39m==\u001b[39m \u001b[39m'\u001b[39m\u001b[39mOK\u001b[39m\u001b[39m'\u001b[39m\n",
      "\u001b[1;31mACNETTimeoutError\u001b[0m: Request http://127.0.0.1:8080/status timeout out"
     ]
    }
   ],
   "source": [
    "from pyiota.acnet import ACL, ACNETRelay, DPM, READ_METHOD\n",
    "\n",
    "# Java proxy, which is our custom Java HTTP server (ACNET-Proxy repo) that forwards all requests using DIODMQ (RabbitMQ broker). It is the highest performance method for large data, and has been in use for several years.\n",
    "proxy = ACNETRelay(verbose=True)\n",
    "\n",
    "# Java proxy but it is allowed to return last cached result if available (and error out if not)\n",
    "# There is an internal hardcoded list of common IOTA devices that are subscribed to 10Hz updates on startup (i.e. N:I2B1RI@p,100)\n",
    "# Since any fresh reads have >=30ms latency, cached data (~50ms age on average) is often as reasonable to use as dedicated immediate reads with much less ACNET load\n",
    "# In some of the method discussed below, you can also request a 'fresh cached' read, which will poll until new periodic reading comes in and IS STRONGLY RECOMMENDED\n",
    "proxy_cached = ACNETRelay(verbose=True, read_method=READ_METHOD.CACHED)\n",
    "\n",
    "# ACL adapter uses the HTTP interfaced to execute small ACL one-liners\n",
    "# It can be used to perform some unique operations not suitable for other adapters\n",
    "# as well as being a very robust backup for reads. Quite fast at scale of hundreds of devices per request, but slow for individual ones.\n",
    "# No settings are possible through ACL\n",
    "acl = ACL(verbose=True)\n",
    "\n",
    "# DPM interface uses a modified version of ACsys library to work through data pool manager\n",
    "# It changes some internal mechanics to better work with threading and synchronous tasks, hiding async formalism\n",
    "# Quite good read performance but settings are restricted by 'role'.\n",
    "dpm = DPM(verbose=True)"
   ]
  },
  {
   "cell_type": "code",
   "execution_count": null,
   "metadata": {},
   "outputs": [],
   "source": [
    "# You can ping proxy to verify connectivity\n",
    "proxy.ping()"
   ]
  },
  {
   "cell_type": "code",
   "execution_count": null,
   "metadata": {},
   "outputs": [],
   "source": [
    "# Example raw ACL command\n",
    "acl._raw_command(\"event_info/nml/last_time A8\")"
   ]
  },
  {
   "cell_type": "code",
   "execution_count": null,
   "metadata": {},
   "outputs": [],
   "source": [
    "# Wait until next event (this is poor man's @e,A8 event alternative, but actually used operationally)\n",
    "acl._raw_command(\"wait/nml/event/timeout=2 A8\")"
   ]
  },
  {
   "cell_type": "code",
   "execution_count": null,
   "metadata": {},
   "outputs": [],
   "source": [
    "# As expected, another event happened\n",
    "acl._raw_command(\"event_info/nml/last_time A8\")"
   ]
  },
  {
   "cell_type": "code",
   "execution_count": null,
   "metadata": {},
   "outputs": [],
   "source": [
    "# Find out which DPM we are connected to\n",
    "dpm.ping()"
   ]
  },
  {
   "attachments": {},
   "cell_type": "markdown",
   "metadata": {},
   "source": [
    "## Devices\n",
    "\n",
    "Basic pyiota control objects are associated with specific data types as well as property types\n",
    "\n",
    "Currently implemented:\n",
    "- DoubleDevice = ACNET reading and setting of floats and ints \n",
    "- StatusDevice = ACNET status devices\n",
    "- ArrayDevice = ACNET reading and setting of float arrays [this distinction from length-1 channels mirrors Java API, there is no technical reason for it]"
   ]
  },
  {
   "cell_type": "code",
   "execution_count": null,
   "metadata": {},
   "outputs": [],
   "source": [
    "# Designate default adapter - it will be used unless overriden\n",
    "pyiota.acnet.frontends.AdapterManager.default_adapter = dpm"
   ]
  },
  {
   "cell_type": "code",
   "execution_count": null,
   "metadata": {},
   "outputs": [],
   "source": [
    "from pyiota.acnet import DoubleDevice, StatusDevice, ArrayDevice\n",
    "test_double = DoubleDevice('Z:ACLTST')"
   ]
  },
  {
   "cell_type": "code",
   "execution_count": null,
   "metadata": {},
   "outputs": [],
   "source": [
    "test_double.read()"
   ]
  },
  {
   "cell_type": "code",
   "execution_count": null,
   "metadata": {},
   "outputs": [],
   "source": [
    "test_double.read(adapter=acl)"
   ]
  },
  {
   "cell_type": "code",
   "execution_count": null,
   "metadata": {},
   "outputs": [],
   "source": [
    "test_double.read(adapter=proxy)"
   ]
  },
  {
   "cell_type": "code",
   "execution_count": null,
   "metadata": {},
   "outputs": [],
   "source": [
    "# Instead of values, full DataResponse objects can be returned\n",
    "# This is especially useful for responses that error out, since response will contain error codes\n",
    "test_double.read(full=True, adapter=proxy)"
   ]
  },
  {
   "cell_type": "code",
   "execution_count": null,
   "metadata": {},
   "outputs": [],
   "source": [
    "test_status = StatusDevice('Z|ACLTST')\n",
    "test_status.read()"
   ]
  },
  {
   "cell_type": "code",
   "execution_count": null,
   "metadata": {},
   "outputs": [],
   "source": [
    "test_status.set('OFF',full=True,adapter=proxy)"
   ]
  },
  {
   "cell_type": "code",
   "execution_count": null,
   "metadata": {},
   "outputs": [],
   "source": []
  },
  {
   "cell_type": "code",
   "execution_count": null,
   "metadata": {},
   "outputs": [],
   "source": [
    "# Each read also updates internal device state, which can be queries with convenience methods\n",
    "test_status.on"
   ]
  },
  {
   "cell_type": "code",
   "execution_count": null,
   "metadata": {},
   "outputs": [],
   "source": [
    "test_status.ready"
   ]
  },
  {
   "cell_type": "code",
   "execution_count": null,
   "metadata": {},
   "outputs": [],
   "source": [
    "test_status.read(adapter=proxy)"
   ]
  },
  {
   "cell_type": "code",
   "execution_count": null,
   "metadata": {},
   "outputs": [],
   "source": [
    "# Errors will produce 'None' results \n",
    "test_array = ArrayDevice('Z:CACHE[:2]')\n",
    "test_array.read()"
   ]
  },
  {
   "cell_type": "code",
   "execution_count": null,
   "metadata": {},
   "outputs": [],
   "source": [
    "test_array.read(adapter=proxy)"
   ]
  },
  {
   "cell_type": "code",
   "execution_count": null,
   "metadata": {},
   "outputs": [],
   "source": [
    "test_array = ArrayDevice('N:IBC1RH[:10]')\n",
    "test_array.read()"
   ]
  },
  {
   "cell_type": "code",
   "execution_count": null,
   "metadata": {},
   "outputs": [],
   "source": [
    "test_array.read(adapter=proxy)"
   ]
  },
  {
   "cell_type": "code",
   "execution_count": null,
   "metadata": {},
   "outputs": [],
   "source": [
    "test_array = ArrayDevice('Z:ACLTST[0:3]')\n",
    "test_array.read()"
   ]
  },
  {
   "cell_type": "code",
   "execution_count": null,
   "metadata": {},
   "outputs": [],
   "source": [
    "# that is real device used in internal Java tests...\n",
    "t = DoubleDevice(\"C:CRAP\") \n",
    "t.read()"
   ]
  },
  {
   "cell_type": "code",
   "execution_count": null,
   "metadata": {},
   "outputs": [],
   "source": [
    "t.read(adapter=proxy)"
   ]
  },
  {
   "cell_type": "code",
   "execution_count": null,
   "metadata": {},
   "outputs": [],
   "source": [
    "# Setting work, but you MUST change the property appropriately \n",
    "# Lack of automatic conversion is a safety feature such that explicit READING and SETTING devices need to be created\n",
    "test_double = DoubleDevice('Z:ACLTST')\n",
    "test_double.set(5, adapter=proxy)"
   ]
  },
  {
   "cell_type": "code",
   "execution_count": null,
   "metadata": {},
   "outputs": [],
   "source": [
    "# This now succeeeds\n",
    "test_double = DoubleDevice('Z_ACLTST')\n",
    "test_double.set(5, adapter=proxy)"
   ]
  },
  {
   "cell_type": "code",
   "execution_count": null,
   "metadata": {},
   "outputs": [],
   "source": [
    "# Status devices pair with control devices in same way as READING/SETTING ones do, but because there is no confusion there is automatic conversion\n",
    "test_control = StatusDevice('Z&ACLTST')\n",
    "test_control.set('OFF',full=True,adapter=proxy)"
   ]
  },
  {
   "cell_type": "code",
   "execution_count": null,
   "metadata": {},
   "outputs": [],
   "source": [
    "test_status.read()\n",
    "test_status.on"
   ]
  },
  {
   "attachments": {},
   "cell_type": "markdown",
   "metadata": {},
   "source": [
    "## Device sets\n",
    "\n",
    "Previous section actually lied - pyiota operates on 'device sets', with individual reads just creating a 1-device set in the background. Why? Because ACNET is slow, and tuned around having premade large lists of devices for batch operations. Instead of trying to hide this complexity behind 'read_many_devices' style methods, the choice of how to combine devices is left up to the user. There are tradeoffs in terms of reliability and performance - read and set operations will wait until all devices finish, and too large jobs will slow down processing."
   ]
  },
  {
   "cell_type": "code",
   "execution_count": null,
   "metadata": {},
   "outputs": [],
   "source": [
    "from pyiota.acnet import DoubleDeviceSet\n",
    "test_double_2 = DoubleDevice('Z_CACHE')\n",
    "test_double_3 = DoubleDevice('G_CHIPLC')\n",
    "ds_double = DoubleDeviceSet(members=[test_double, test_double_2, test_double_3], adapter=proxy)"
   ]
  },
  {
   "cell_type": "code",
   "execution_count": null,
   "metadata": {},
   "outputs": [],
   "source": [
    "ds_double.read()"
   ]
  },
  {
   "cell_type": "code",
   "execution_count": null,
   "metadata": {},
   "outputs": [],
   "source": [
    "ds_double.set([1.0, 2.0, 3.0])"
   ]
  }
 ],
 "metadata": {
  "kernelspec": {
   "display_name": "py39ml",
   "language": "python",
   "name": "python3"
  },
  "language_info": {
   "codemirror_mode": {
    "name": "ipython",
    "version": 3
   },
   "file_extension": ".py",
   "mimetype": "text/x-python",
   "name": "python",
   "nbconvert_exporter": "python",
   "pygments_lexer": "ipython3",
   "version": "3.9.15"
  },
  "orig_nbformat": 4
 },
 "nbformat": 4,
 "nbformat_minor": 2
}
