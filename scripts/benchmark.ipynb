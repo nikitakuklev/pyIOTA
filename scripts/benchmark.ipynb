{
 "cells": [
  {
   "cell_type": "code",
   "execution_count": null,
   "metadata": {},
   "outputs": [],
   "source": [
    "import time, sys, os\n",
    "import numpy as np\n",
    "import pandas as pd\n",
    "import matplotlib.pyplot as plt\n",
    "import logging\n",
    "from pathlib import Path\n",
    "import random\n",
    "\n",
    "sys.path.append('..')\n",
    "sys.path.append('../../ocelot')\n",
    "import pyiota.acnet as acnet\n",
    "import pyiota.iota as iota\n",
    "from pyiota.acnet.frontends import BPMDevice, BPMDeviceSet, DoubleDevice, DoubleDeviceSet, ACL, ACNETRelay, DPM, READ_METHOD\n",
    "\n",
    "RING = iota.run4\n",
    "\n",
    "proxy = ACNETRelay(set_multi=True, verbose=True)\n",
    "proxy_cached = ACNETRelay(set_multi=True, verbose=True, read_method=READ_METHOD.CACHED)\n",
    "acl = ACL(fallback=True)\n",
    "acl_async = ACL()\n",
    "dpm = DPM()\n",
    "\n",
    "l = logging.getLogger('pyiota.acnet.acsys')\n",
    "l.setLevel(logging.WARNING)\n",
    "\n",
    "acnet.frontends.default_adapter = proxy"
   ]
  },
  {
   "cell_type": "code",
   "execution_count": null,
   "metadata": {},
   "outputs": [],
   "source": [
    "ping = proxy.ping()\n",
    "time.sleep(0.1)\n",
    "ping = proxy.ping()\n",
    "print(f'Proxy ping: {ping*1e3:.3f}ms')"
   ]
  },
  {
   "cell_type": "code",
   "execution_count": null,
   "metadata": {},
   "outputs": [],
   "source": [
    "def get_ds_double(name, adapter):\n",
    "    device = DoubleDevice(name)\n",
    "    device_set = DoubleDeviceSet(name='test', members=[device], adapter=adapter)\n",
    "    return device_set"
   ]
  },
  {
   "cell_type": "code",
   "execution_count": null,
   "metadata": {},
   "outputs": [],
   "source": [
    "ds = get_ds_double('Z:ACLTST', dpm)\n",
    "for i in range(20):\n",
    "    ds.read()"
   ]
  },
  {
   "cell_type": "code",
   "execution_count": null,
   "metadata": {},
   "outputs": [],
   "source": [
    "# p = proxy.start_proxy()\n",
    "# time.sleep(10)\n",
    "# p\n",
    "ds = get_ds_double('Z:ACLTST', proxy)\n",
    "for i in range(20):\n",
    "    ds.read()"
   ]
  },
  {
   "cell_type": "code",
   "execution_count": null,
   "metadata": {},
   "outputs": [],
   "source": [
    "# ds = get_ds('Z:ACLTST', acl)\n",
    "# for i in range(10):\n",
    "#     ds.read()"
   ]
  },
  {
   "attachments": {},
   "cell_type": "markdown",
   "metadata": {},
   "source": [
    "## BPMs"
   ]
  },
  {
   "cell_type": "code",
   "execution_count": null,
   "metadata": {},
   "outputs": [],
   "source": [
    "def get_ds(adapter):\n",
    "    bpms = [BPMDevice(b) for b in RING.BPMS.HA]\n",
    "    ds_bpm = BPMDeviceSet(name='bpms', members=bpms, adapter=adapter)\n",
    "    ds_bpm.array_length = 2048 # DPM requires array length or return only first value?\n",
    "    return ds_bpm"
   ]
  },
  {
   "cell_type": "code",
   "execution_count": null,
   "metadata": {},
   "outputs": [],
   "source": [
    "d = BPMDevice('N:IBC1RH')\n",
    "arr = d.read()\n",
    "print(len(arr))"
   ]
  },
  {
   "cell_type": "code",
   "execution_count": null,
   "metadata": {},
   "outputs": [],
   "source": [
    "ds = get_ds(dpm)\n",
    "for i in range(10):\n",
    "    data = ds.read()\n",
    "    for v in data:\n",
    "        assert len(v) == 2048"
   ]
  },
  {
   "cell_type": "code",
   "execution_count": null,
   "metadata": {},
   "outputs": [],
   "source": [
    "data[0][0:5], data[0][-5:]"
   ]
  },
  {
   "cell_type": "code",
   "execution_count": null,
   "metadata": {},
   "outputs": [],
   "source": [
    "ds = get_ds(proxy)\n",
    "for i in range(10):\n",
    "    data = ds.read()\n",
    "    for v in data:\n",
    "        assert len(v) == 2048"
   ]
  },
  {
   "cell_type": "code",
   "execution_count": null,
   "metadata": {},
   "outputs": [],
   "source": [
    "data[0][0:5], data[0][-5:]"
   ]
  },
  {
   "cell_type": "code",
   "execution_count": null,
   "metadata": {},
   "outputs": [],
   "source": [
    "len(data[0])"
   ]
  },
  {
   "attachments": {},
   "cell_type": "markdown",
   "metadata": {},
   "source": [
    "## Write benchmarking"
   ]
  },
  {
   "cell_type": "code",
   "execution_count": null,
   "metadata": {},
   "outputs": [],
   "source": [
    "ds = get_ds_double('Z:ACLTST', proxy)\n",
    "for i in range(1):\n",
    "    ds.read()\n",
    "for i in range(1):\n",
    "    ds.set([random.random()*5], verbose=True)"
   ]
  },
  {
   "cell_type": "code",
   "execution_count": null,
   "metadata": {},
   "outputs": [],
   "source": [
    "            # /*\n",
    "            # if (iadr.getHostAddress().startsWith(\"169.254\")) {\n",
    "            # \tSystem.out.println(\"Your node's java.net.InetAddress.getLocalHost().getHostAddress() is: \" + java.net.InetAddress.getLocalHost().getHostAddress());\n",
    "            # \tSystem.out.println(\"DaqUser, connections where java.net.InetAddress().getLocalHost().getHostAddress() start with 169.254 are not allowed.\");\n",
    "            # \tSystem.out.println(\"Addresses that begin with 131.225 are typically required.  Try disabling your wireless.\");\n",
    "            # \treturn false;\n",
    "            # }\n",
    "            #  */"
   ]
  }
 ],
 "metadata": {
  "kernelspec": {
   "display_name": "py39ml",
   "language": "python",
   "name": "python3"
  },
  "language_info": {
   "codemirror_mode": {
    "name": "ipython",
    "version": 3
   },
   "file_extension": ".py",
   "mimetype": "text/x-python",
   "name": "python",
   "nbconvert_exporter": "python",
   "pygments_lexer": "ipython3",
   "version": "3.9.15"
  },
  "orig_nbformat": 4
 },
 "nbformat": 4,
 "nbformat_minor": 2
}
